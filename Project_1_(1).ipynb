{
  "cells": [
    {
      "cell_type": "markdown",
      "metadata": {
        "id": "6Cr4mGDNO99J",
        "tags": []
      },
      "source": [
        "# Wheelchair Control\n",
        "\n",
        "![](images/wheelchair.jpg)"
      ]
    },
    {
      "cell_type": "markdown",
      "metadata": {
        "id": "TRDMKIGvO99N"
      },
      "source": [
        "### Python Dependencies"
      ]
    },
    {
      "cell_type": "code",
      "execution_count": null,
      "metadata": {
        "id": "eanOv13rO99O"
      },
      "outputs": [],
      "source": [
        "from numpy import *\n",
        "from numpy.linalg import *\n",
        "\n",
        "from scipy.linalg import *\n",
        "from scipy.integrate import *\n",
        "from scipy.signal import *\n",
        "\n",
        "from matplotlib.pyplot import *"
      ]
    },
    {
      "cell_type": "markdown",
      "metadata": {
        "id": "UW5GyDSOO99P",
        "tags": []
      },
      "source": [
        "Step 1 - Wheelchair Planar Model\n",
        "================================"
      ]
    },
    {
      "cell_type": "markdown",
      "metadata": {
        "id": "t8TYdh0YO99Q",
        "tags": []
      },
      "source": [
        "### Introduction"
      ]
    },
    {
      "cell_type": "markdown",
      "metadata": {
        "id": "pDDzp4gFO99Q",
        "tags": []
      },
      "source": [
        "We consider a simple model of a wheelchair evolving in the plane. It is mainly made of\n",
        "\n",
        "  - A frame ; from above, its most visible component is the seat. We assume that it is a square,\n",
        "\n",
        "  - Two fixed wheels (their orientation with respect to the frame does not change). \n",
        "    They are parallel and located at opposite ends of the seat. \n",
        "    \n",
        "We assume that the seat backrest is on top of the wheels common axis.\n",
        "\n",
        "\n",
        "Let $(0, e_x, e_y)$ be a direct orthonormal frame of the plane. We denote \n",
        "\n",
        "  - $(x, y)$ the coordinates of the wheel axis center in the orthonormal and \n",
        "  - $\\theta$ the angle of the wheels direction with respect to vector $e_x$ ; with $\\theta = 0$ when the front of the wheelchait faces the right ($e_x$) and $\\theta = \\pi/2$ when it faces upwards ($e_y$).\n",
        "\n",
        "  - $\\phi_l$ and $\\phi_r$ the rotation angles of the left and right wheel respectively ; by convention, when these angles increase, the wheelchair moves forward."
      ]
    },
    {
      "cell_type": "markdown",
      "metadata": {
        "id": "bulbTgaXO99Q",
        "tags": []
      },
      "source": [
        "### Parameter Definition"
      ]
    },
    {
      "cell_type": "markdown",
      "metadata": {
        "id": "jCEKsC1NO99R",
        "tags": []
      },
      "source": [
        "From now on, we assume that the seat side length is $L = 50 \\mbox{ cm}$ and the wheel radius is $R_w = 30 \\mbox{ cm}$.\n",
        "\n",
        "🧩 Define the corresponding Python variables `L` and `Rw` (express every length in meters, and more generally in the sequel, always use the [international standard of units](https://en.wikipedia.org/wiki/SI_derived_unit)) for numerical values. "
      ]
    },
    {
      "cell_type": "code",
      "execution_count": null,
      "metadata": {
        "id": "Rq2MAVoOO99R"
      },
      "outputs": [],
      "source": [
        "L = 0.5\n",
        "Rw = 0.3"
      ]
    },
    {
      "cell_type": "markdown",
      "metadata": {
        "id": "chL1GZPTO99S"
      },
      "source": [
        "### Graphical Representation\n",
        "\n",
        "🧩 Implement a function `draw_wheelchair` with arguments `x`, `y` and `theta` that draws a simple geometric model of the wheelchair (with seat and fixed wheels) in the plane (top view) for arbitrary values of $(x, y)$ and $\\theta$. \n",
        "\n",
        "🗝️ **Hint.** Use the function `plot` of `matplotlib.pyplot`."
      ]
    },
    {
      "cell_type": "markdown",
      "metadata": {
        "id": "IBTcRRPLO99T"
      },
      "source": [
        "🧩 Represent the wheelchair when $(x, y, \\theta) = (0, 0, 0), (2, 2, \\pi/2), (0, 4, \\pi), (-2, 2, 3\\pi/2)$.\n",
        "\n",
        "🗝️ **Hint.** Use the following `draw_arena` function beforehand."
      ]
    },
    {
      "cell_type": "code",
      "execution_count": null,
      "metadata": {
        "id": "hBmKIBoCO99T"
      },
      "outputs": [],
      "source": [
        "def draw_arena(xmin=-5, xmax=5, ymin=-5, ymax=5):\n",
        "    wh_ratio = (xmax - xmin) / (ymax - ymin)\n",
        "    figsize = fig_width, fig_height = 16, 16 / wh_ratio\n",
        "    figure(figsize=figsize)\n",
        "    axes = gca()\n",
        "    axes.axis([xmin, xmax, ymin, ymax])\n",
        "    axes.set_aspect(1)\n",
        "    xticks(arange(xmin, xmax+1, 1))\n",
        "    yticks(arange(ymin, ymax+1, 1))\n",
        "    grid(True)"
      ]
    },
    {
      "cell_type": "code",
      "execution_count": null,
      "metadata": {
        "colab": {
          "base_uri": "https://localhost:8080/",
          "height": 1000
        },
        "id": "qN4OChabRz2k",
        "outputId": "3ac56b02-f5ec-4619-c0de-1f036c583439"
      },
      "outputs": [
        {
          "data": {
            "image/png": "[encoded data removed]",
            "text/plain": [
              "<Figure size 1152x1152 with 1 Axes>"
            ]
          },
          "metadata": {
            "needs_background": "light"
          },
          "output_type": "display_data"
        }
      ],
      "source": [
        "from matplotlib import pyplot as plt, patches\n",
        "\n",
        "def draw_wheelchair(x, y, theta):\n",
        "    #Coordonates of the center of the right wheel\n",
        "    x1 = x + sin(theta)*L/2\n",
        "    y1 = y - cos(theta)*L/2\n",
        "\n",
        "    #Coordonates of the center of the left wheel\n",
        "    x2 = x - sin(theta)*L/2\n",
        "    y2 = y + cos(theta)*L/2\n",
        "\n",
        "    #Wheel de droite\n",
        "    x1_ = linspace(x1-cos(theta)*Rw/2,x1+cos(theta)*Rw/2, 100)\n",
        "    y1_ = linspace(y1-sin(theta)*Rw/2,y1+sin(theta)*Rw/2, 100)\n",
        "\n",
        "    plot(x1_, y1_, 'r-')\n",
        "\n",
        "    #Wheel de gauche\n",
        "    x2_ = linspace(x2-cos(theta)*Rw/2,x2+cos(theta)*Rw/2, 100)\n",
        "    y2_ = linspace(y2-sin(theta)*Rw/2,y2+sin(theta)*Rw/2, 100)\n",
        "\n",
        "    plot(x2_, y2_, 'r-')\n",
        "\n",
        "    #Draw the wheelchair\n",
        "    rectangle = patches.Rectangle((x1, y1), L, L, linewidth=2, angle=theta*180/pi)\n",
        "    gca().add_patch(rectangle)\n",
        "    \n",
        "draw_arena()\n",
        "draw_wheelchair(0,0,0)\n",
        "draw_wheelchair(2, 2, np.pi/2)\n",
        "draw_wheelchair(0, 4, np.pi)\n",
        "draw_wheelchair(-2, 2, 3*np.pi/2)"
      ]
    },
    {
      "cell_type": "markdown",
      "metadata": {
        "id": "88KSjIh0O99T"
      },
      "source": [
        "### Kinematic Modeling\n",
        "\n",
        "We assume that we can control the wheels angular velocities $\\omega_l = \\dot{\\phi}_l$ and $\\omega_r = \\dot{\\phi}_r$ (this is a *kinematic* model of the wheelchair).\n",
        "We also assume that the wheelchair fixed wheels roll without slipping. \n",
        "\n",
        "🧩 Establish the differential equations that relate $\\dot{x}$,\n",
        "$\\dot{y}$ and $\\dot{\\theta}$ with $\\omega_l$ and $\\omega_r$."
      ]
    },
    {
      "cell_type": "markdown",
      "metadata": {
        "id": "UI89z-GGO99U"
      },
      "source": [
        "**Answer:**"
      ]
    },
    {
      "cell_type": "markdown",
      "metadata": {
        "id": "nZv2ck2eCg6s"
      },
      "source": [
        "Les vitesses linéaires des roues sont données par :\n",
        "\n",
        "V𝑙 = 𝑅𝑤 * 𝜔𝑙\n",
        "\n",
        "V𝑟 = 𝑅𝑤 * 𝜔𝑟\n",
        "\n",
        "où V𝑙 et V𝑟 sont les vitesses linéaires des roues gauche et droite, respectivement.\n",
        "\n",
        "La vitesse 𝑉 de la chaise roulante est donnée par :\n",
        "\n",
        "V = (V𝑙 + V𝑟) / 2\n",
        "\n",
        "𝑉  est liée aux vitesses angulaires des roues par :\n",
        "\n",
        "V = $\\frac{Rw}{2} (\\omega_r +  \\omega_l  $ )\n",
        "\n",
        "On sait que : 𝑥˙ = V𝑥 = V * cos(𝜃)     \n",
        "et     𝑦˙ = V𝑦 = V * sin(𝜃)   \n",
        "et      $\\dot{\\theta}$ = (V𝑟 - V𝑙) / 𝐿\n",
        "\n",
        "Tel que $\\dot{x}$ représente la vitesse selon l'axe x du centre de l'axe de roue,  $\\dot{y}$  représente la vitesse selon l'axe y, et $\\dot{\\theta}$ représente la vitesse angulaire de la chaise.\n",
        "\n",
        "En remplaçant 𝑉,V𝑟 et V𝑙 , nous obtenons :\n",
        "\n",
        "$\\dot{\\theta} =\\frac{Rw}{L}×( \\omega_r  - \\omega_l  ) $\n",
        "\n",
        "$\\dot{x} =\\frac{Rw}{2}cos(\\theta)×(\\omega_r + \\omega_l)$\n",
        "\n",
        "$\\dot{y} =\\frac{Rw}{2}sin(\\theta)×(\\omega_r + \\omega_l)$\n",
        "\n"
      ]
    },
    {
      "cell_type": "markdown",
      "metadata": {
        "id": "Drnss_5FO99U"
      },
      "source": [
        "### Analysis\n",
        "\n",
        "🧩 Show that if $\\omega_l$ and $\\omega_r$ are continuously differentiable functions of $(x, y, \\theta)$ (which includes the case of constant inputs), this system is well-posed."
      ]
    },
    {
      "cell_type": "markdown",
      "metadata": {
        "id": "SWEkAHFIO99U"
      },
      "source": [
        "**Answer:**"
      ]
    },
    {
      "cell_type": "markdown",
      "metadata": {
        "id": "JZuh8ceHCg6t"
      },
      "source": [
        "Si on modélise ce problème dans un champs de vecteurs, sa condition initiale va etre associée à un vecteur du champs. Puisque le champs de vecteurs est continuement différentiable, il existe une solution unique à ce problème de valeur initiale. Donc le systeme est bien-posé."
      ]
    },
    {
      "cell_type": "markdown",
      "metadata": {
        "id": "1KHSMNQkO99U"
      },
      "source": [
        "🧩 Show that if $\\omega_l$ and $\\omega_r$ are constants, the maximal solution associated to any initial state is global. Is is still true of $\\omega_l$ and $\\omega_r$ are arbitrary continuously differentiable functions of $(x, y, \\theta)$ ?"
      ]
    },
    {
      "cell_type": "markdown",
      "metadata": {
        "id": "UvMvHXhiO99U"
      },
      "source": [
        "**Answer:**"
      ]
    },
    {
      "cell_type": "markdown",
      "metadata": {
        "id": "yv7PH8E4Cg6t"
      },
      "source": [
        "Si les forces et données ne varient pas, mathématiquement, les dérivées de 𝑥, 𝑦 et 𝜃 par rapport à 𝑡 sont bornées et ne peuvent pas tendre vers l'infini et donc la trajectoire suivie par les variables x,y et 𝜃 est globale : elle est valide sur tout t. Ainsi la solution maximale est globale.\n",
        "\n",
        "Par contre si les données du systeme dépendent des variables x,y et 𝜃, la variation de ces variables avec le temps peut tendre vers l'infini avec certaines valeurs initiales. Donc la solution devient plutot locale."
      ]
    },
    {
      "cell_type": "markdown",
      "metadata": {
        "id": "TQSEHgVLCvrP"
      },
      "source": [
        "### Vector Field\n",
        "\n",
        "In the sequel, `omega` is a function that computes the input vector $\\omega := (\\omega_l, \\omega_r)$ given the time $t$ and $(x, y, \\theta)$ (thus, it may depend on the time and/or on the system state if needed). For example:"
      ]
    },
    {
      "cell_type": "code",
      "execution_count": null,
      "metadata": {
        "id": "rvv7nwJGCvrX"
      },
      "outputs": [],
      "source": [
        "def omega(t, xytheta):\n",
        "    omega_l = (1 - L/4) * pi / Rw\n",
        "    omega_r = (1 + L/4) * pi / Rw\n",
        "    return array([omega_l, omega_r])"
      ]
    },
    {
      "cell_type": "markdown",
      "metadata": {
        "id": "vmRI2_2pCvrY"
      },
      "source": [
        "🧩 Implement a function `fun(t, xytheta)` that computes $(\\dot{x}, \\dot{y}, \\dot{\\theta})$ given the time $t$ and $(x,y,\\theta)$ (and implicitly the inputs $\\omega$ computed by the function `omega`)."
      ]
    },
    {
      "cell_type": "code",
      "execution_count": null,
      "metadata": {
        "id": "uGSxJttPCvrY"
      },
      "outputs": [],
      "source": [
        "def fun(t, xytheta):\n",
        "    pass"
      ]
    },
    {
      "cell_type": "markdown",
      "metadata": {
        "id": "NG3OZe3cCvrY"
      },
      "source": [
        "### Simulation Setup\n",
        "\n",
        "🧩 Simulate the wheelchair dynamics for 4 seconds when $(x_0, y_0, \\theta_0)(t=0) = (0.0, 0.0, 0.0)$,\n",
        "and the wheels velocities are the constants $\\omega_l = (1 - L/4)  \\pi / R \\mbox{ rad/s}$ and $\\omega_r = (1 + L/4)  \\pi / R_w \\mbox{ rad/s}$.\n",
        "(Compute the dense outputs.)\n",
        "   "
      ]
    },
    {
      "cell_type": "code",
      "execution_count": null,
      "metadata": {
        "id": "A1rQJh3UCvrY"
      },
      "outputs": [],
      "source": [
        "pass"
      ]
    },
    {
      "cell_type": "markdown",
      "metadata": {
        "id": "LA2-6XwMCvrZ"
      },
      "source": [
        "🧩 Use the simulation results to draw the graphs of $x(t)$, $y(t)$ and $\\theta(t)$."
      ]
    },
    {
      "cell_type": "code",
      "execution_count": null,
      "metadata": {
        "id": "2F90LU8JCvrZ"
      },
      "outputs": [],
      "source": [
        "pass"
      ]
    },
    {
      "cell_type": "markdown",
      "metadata": {
        "id": "hvkAp7eHCvrZ"
      },
      "source": [
        "🧩 Use the simulation results to display the robot location every 0.5 second."
      ]
    },
    {
      "cell_type": "code",
      "execution_count": null,
      "metadata": {
        "id": "qEh8F3aNCvrZ"
      },
      "outputs": [],
      "source": [
        "pass"
      ]
    },
    {
      "cell_type": "markdown",
      "metadata": {
        "id": "T7KOhQfLCvrZ"
      },
      "source": [
        "🧩 What should be the analytical expression of $x(t)$, $y(t)$ and $\\theta(t)$? "
      ]
    },
    {
      "cell_type": "markdown",
      "metadata": {
        "id": "DTixme5mCvrZ"
      },
      "source": [
        "**Answer:**"
      ]
    },
    {
      "cell_type": "markdown",
      "metadata": {
        "id": "UNOLu_MlCvrZ"
      },
      "source": [
        "🧩 Do you experimental results match the theoretical results ? Draw the curves of the simulation error at time $t$ for $x$, $y$ and $\\theta$."
      ]
    },
    {
      "cell_type": "code",
      "execution_count": null,
      "metadata": {
        "id": "8xHh1RQQCvra"
      },
      "outputs": [],
      "source": [
        "pass"
      ]
    },
    {
      "cell_type": "markdown",
      "metadata": {
        "id": "g7ypZjGxCvra"
      },
      "source": [
        "🧩 If needed, adjust the simulation parameters until this error is uniformly less than $2 \\times 10^{-5}$ for every component of $(x, y, \\theta)$."
      ]
    },
    {
      "cell_type": "code",
      "execution_count": null,
      "metadata": {
        "id": "LH5i4AUoCvra"
      },
      "outputs": [],
      "source": [
        "pass"
      ]
    }
  ],
  "metadata": {
    "colab": {
      "provenance": []
    },
    "kernelspec": {
      "display_name": "Python 3",
      "language": "python",
      "name": "python3"
    },
    "language_info": {
      "codemirror_mode": {
        "name": "ipython",
        "version": 3
      },
      "file_extension": ".py",
      "mimetype": "text/x-python",
      "name": "python",
      "nbconvert_exporter": "python",
      "pygments_lexer": "ipython3",
      "version": "3.8.8"
    }
  },
  "nbformat": 4,
  "nbformat_minor": 0
}